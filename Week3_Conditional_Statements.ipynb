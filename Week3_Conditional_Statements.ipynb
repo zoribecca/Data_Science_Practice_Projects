{
  "nbformat": 4,
  "nbformat_minor": 0,
  "metadata": {
    "colab": {
      "provenance": [],
      "authorship_tag": "ABX9TyPFJP1g+dahlWJ/mlqDBQDp",
      "include_colab_link": true
    },
    "kernelspec": {
      "name": "python3",
      "display_name": "Python 3"
    },
    "language_info": {
      "name": "python"
    }
  },
  "cells": [
    {
      "cell_type": "markdown",
      "metadata": {
        "id": "view-in-github",
        "colab_type": "text"
      },
      "source": [
        "<a href=\"https://colab.research.google.com/github/zoribecca/Data_Science_Practice_Projects/blob/main/Week3_Conditional_Statements.ipynb\" target=\"_parent\"><img src=\"https://colab.research.google.com/assets/colab-badge.svg\" alt=\"Open In Colab\"/></a>"
      ]
    },
    {
      "cell_type": "markdown",
      "source": [
        "Conditional Statements"
      ],
      "metadata": {
        "id": "VtMDqF_34c_T"
      }
    },
    {
      "cell_type": "code",
      "source": [
        "# .......................................IF Else Statement..................................#\n",
        "age = int(input('Please, enter your age here: '))\n",
        "\n",
        "if age <= 20:\n",
        "  print('You are a teenager')\n",
        "else:\n",
        "  print('You are an adult')"
      ],
      "metadata": {
        "colab": {
          "base_uri": "https://localhost:8080/"
        },
        "id": "novrM5on4kL6",
        "outputId": "36c7705b-84d9-4906-9fc3-97680cc7d153"
      },
      "execution_count": 7,
      "outputs": [
        {
          "output_type": "stream",
          "name": "stdout",
          "text": [
            "Please, enter your age here: 21\n",
            "You are an adult\n"
          ]
        }
      ]
    },
    {
      "cell_type": "code",
      "source": [
        "# ................................IF Statement..............................................#\n",
        "age = int(input('Enter your age '))\n",
        "\n",
        "if age <= 20:\n",
        "  print('you are a teenager')\n",
        "\n"
      ],
      "metadata": {
        "colab": {
          "base_uri": "https://localhost:8080/"
        },
        "id": "tlxEneHc5pNM",
        "outputId": "7e051e11-3052-401e-9dd0-11e062923203"
      },
      "execution_count": 5,
      "outputs": [
        {
          "output_type": "stream",
          "name": "stdout",
          "text": [
            "Enter your age 19\n",
            "you are a teenager\n"
          ]
        }
      ]
    },
    {
      "cell_type": "code",
      "source": [
        "# ..........................................if elif else statement...............................#\n",
        "age = int(input('input your age: '))\n",
        "if age <= 12:\n",
        "  print('you are a child')\n",
        "elif age <= 19:\n",
        "  print ('you are a teenager')\n",
        "else:\n",
        "  print('you are a young adult')"
      ],
      "metadata": {
        "id": "w5XR96la6958",
        "colab": {
          "base_uri": "https://localhost:8080/"
        },
        "outputId": "baf0ceba-e7b8-4d86-9829-f0624e63736a"
      },
      "execution_count": 3,
      "outputs": [
        {
          "output_type": "stream",
          "name": "stdout",
          "text": [
            "input your age: 24\n",
            "you are a young adult\n"
          ]
        }
      ]
    }
  ]
}