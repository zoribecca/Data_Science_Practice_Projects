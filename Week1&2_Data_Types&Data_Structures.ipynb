{
  "nbformat": 4,
  "nbformat_minor": 0,
  "metadata": {
    "colab": {
      "provenance": [],
      "authorship_tag": "ABX9TyOpSL99Gy2qXFT91Nexektn",
      "include_colab_link": true
    },
    "kernelspec": {
      "name": "python3",
      "display_name": "Python 3"
    },
    "language_info": {
      "name": "python"
    }
  },
  "cells": [
    {
      "cell_type": "markdown",
      "metadata": {
        "id": "view-in-github",
        "colab_type": "text"
      },
      "source": [
        "<a href=\"https://colab.research.google.com/github/zoribecca/Data_Science_Practice_Projects/blob/main/Week1%262_Data_Types%26Data_Structures.ipynb\" target=\"_parent\"><img src=\"https://colab.research.google.com/assets/colab-badge.svg\" alt=\"Open In Colab\"/></a>"
      ]
    },
    {
      "cell_type": "markdown",
      "source": [
        "# Data Types"
      ],
      "metadata": {
        "id": "_0UuPhvSXDqp"
      }
    },
    {
      "cell_type": "code",
      "execution_count": 1,
      "metadata": {
        "id": "8tfy6hRoGG8p",
        "colab": {
          "base_uri": "https://localhost:8080/"
        },
        "outputId": "3c8c35cd-123c-4fda-d85b-98b75589f9c2"
      },
      "outputs": [
        {
          "output_type": "execute_result",
          "data": {
            "text/plain": [
              "True"
            ]
          },
          "metadata": {},
          "execution_count": 1
        }
      ],
      "source": [
        "# creating a variable\n",
        "joy = \"student\" # variable\n",
        "joy\n",
        "\n",
        "'''Hello'''\n",
        "\n",
        "# kemi transport to sail\n",
        "kemi = \"700\"\n",
        "kemi\n",
        "\n",
        "ojoDebby=\"blue cap\"\n",
        "ojoDebby\n",
        "\n",
        "ojo_debby = \"blue cap\"\n",
        "ojo_debby\n",
        "\n",
        "kemi = 700\n",
        "kemi\n",
        "\n",
        "# Operators\n",
        "5+5\n",
        "56-18\n",
        "67*9\n",
        "10%3   # modulus, to return the remaider\n",
        "10//3  # to return remaider\n",
        "2**3  # exponent\n",
        "\n",
        "# comparism operators\n",
        "10 > 4\n",
        "10 < 4\n",
        "10 == 4\n",
        "10 == 10\n",
        "10!= 8\n",
        "5 >= 2\n",
        "6 <= 10\n",
        "\n",
        "a = 6\n",
        "b = 8\n",
        "a == b\n",
        "a != b\n",
        "\n",
        "# Data types\n",
        "\n",
        "\n",
        "\n",
        "\n",
        "\n"
      ]
    },
    {
      "cell_type": "code",
      "source": [
        "\n",
        "seyi = 800\n",
        "type (seyi)"
      ],
      "metadata": {
        "colab": {
          "base_uri": "https://localhost:8080/"
        },
        "id": "PTg198VgWV0n",
        "outputId": "5bf023da-fcc3-46eb-9a08-21bdc6f6e81f"
      },
      "execution_count": 2,
      "outputs": [
        {
          "output_type": "execute_result",
          "data": {
            "text/plain": [
              "int"
            ]
          },
          "metadata": {},
          "execution_count": 2
        }
      ]
    },
    {
      "cell_type": "code",
      "source": [
        "yewande = 1000\n",
        "type(yewande)"
      ],
      "metadata": {
        "colab": {
          "base_uri": "https://localhost:8080/"
        },
        "id": "4U4F6sG1WZSd",
        "outputId": "d72a2b90-3d3a-44da-eb0c-ac6e78e372e7"
      },
      "execution_count": 3,
      "outputs": [
        {
          "output_type": "execute_result",
          "data": {
            "text/plain": [
              "int"
            ]
          },
          "metadata": {},
          "execution_count": 3
        }
      ]
    },
    {
      "cell_type": "code",
      "source": [
        "seyi2 = \"800\"\n",
        "type (seyi2)"
      ],
      "metadata": {
        "colab": {
          "base_uri": "https://localhost:8080/"
        },
        "id": "Ok7qw_nOWdw3",
        "outputId": "81511c9f-0af6-4a59-e06c-0f8b91f7f46a"
      },
      "execution_count": 4,
      "outputs": [
        {
          "output_type": "execute_result",
          "data": {
            "text/plain": [
              "str"
            ]
          },
          "metadata": {},
          "execution_count": 4
        }
      ]
    },
    {
      "cell_type": "code",
      "source": [
        "yewande2 = \"1000\"\n",
        "type (yewande2)"
      ],
      "metadata": {
        "colab": {
          "base_uri": "https://localhost:8080/"
        },
        "id": "Dz6OnEq1W5S3",
        "outputId": "99525574-e475-4fae-858f-c5c3f88291c7"
      },
      "execution_count": 5,
      "outputs": [
        {
          "output_type": "execute_result",
          "data": {
            "text/plain": [
              "str"
            ]
          },
          "metadata": {},
          "execution_count": 5
        }
      ]
    },
    {
      "cell_type": "code",
      "source": [
        "seyi + yewande"
      ],
      "metadata": {
        "colab": {
          "base_uri": "https://localhost:8080/"
        },
        "id": "d_f7uArVW5Ad",
        "outputId": "2796a3b3-a7f9-42fc-c059-c1b79d9500eb"
      },
      "execution_count": 6,
      "outputs": [
        {
          "output_type": "execute_result",
          "data": {
            "text/plain": [
              "1800"
            ]
          },
          "metadata": {},
          "execution_count": 6
        }
      ]
    },
    {
      "cell_type": "code",
      "source": [
        "seyi2 + yewande2"
      ],
      "metadata": {
        "colab": {
          "base_uri": "https://localhost:8080/",
          "height": 35
        },
        "id": "k4kg84qvXddt",
        "outputId": "4aaad8b6-384d-4141-ad1e-687d7ff30095"
      },
      "execution_count": 7,
      "outputs": [
        {
          "output_type": "execute_result",
          "data": {
            "text/plain": [
              "'8001000'"
            ],
            "application/vnd.google.colaboratory.intrinsic+json": {
              "type": "string"
            }
          },
          "metadata": {},
          "execution_count": 7
        }
      ]
    },
    {
      "cell_type": "code",
      "source": [
        "# Complex numbers\n",
        "wole = 3 + 2j\n",
        "type(wole)\n",
        "\n",
        "\n"
      ],
      "metadata": {
        "colab": {
          "base_uri": "https://localhost:8080/"
        },
        "id": "JbqJZfMkX3IG",
        "outputId": "938ee99a-9bb3-4037-e26c-46ac418275a0"
      },
      "execution_count": 8,
      "outputs": [
        {
          "output_type": "execute_result",
          "data": {
            "text/plain": [
              "complex"
            ]
          },
          "metadata": {},
          "execution_count": 8
        }
      ]
    },
    {
      "cell_type": "code",
      "source": [
        "wunmi = 4 + 6j\n",
        "type(wunmi)"
      ],
      "metadata": {
        "colab": {
          "base_uri": "https://localhost:8080/"
        },
        "id": "UrZAZq5gYoJW",
        "outputId": "66199b6a-6074-488b-edc9-9572b62d46d9"
      },
      "execution_count": 9,
      "outputs": [
        {
          "output_type": "execute_result",
          "data": {
            "text/plain": [
              "complex"
            ]
          },
          "metadata": {},
          "execution_count": 9
        }
      ]
    },
    {
      "cell_type": "code",
      "source": [
        "dog = 1.0\n",
        "type(dog)"
      ],
      "metadata": {
        "colab": {
          "base_uri": "https://localhost:8080/"
        },
        "id": "oWMqQ_3kY_pd",
        "outputId": "4514b801-1ac7-4936-d9c9-0dc196149013"
      },
      "execution_count": 10,
      "outputs": [
        {
          "output_type": "execute_result",
          "data": {
            "text/plain": [
              "float"
            ]
          },
          "metadata": {},
          "execution_count": 10
        }
      ]
    },
    {
      "cell_type": "code",
      "source": [
        "dogs = 1.0 + 2.0\n",
        "type (dogs)"
      ],
      "metadata": {
        "colab": {
          "base_uri": "https://localhost:8080/"
        },
        "id": "EP_eOATxZIJt",
        "outputId": "05369574-8a5d-441e-820c-7535fb33f092"
      },
      "execution_count": 11,
      "outputs": [
        {
          "output_type": "execute_result",
          "data": {
            "text/plain": [
              "float"
            ]
          },
          "metadata": {},
          "execution_count": 11
        }
      ]
    },
    {
      "cell_type": "markdown",
      "source": [
        "### Boolean"
      ],
      "metadata": {
        "id": "SUB-D_ACZpzl"
      }
    },
    {
      "cell_type": "code",
      "source": [
        "marker = True\n",
        "type(marker)"
      ],
      "metadata": {
        "colab": {
          "base_uri": "https://localhost:8080/"
        },
        "id": "Zio1GNyZZs6V",
        "outputId": "5a435d1c-0fe3-4651-e003-a940b6bb8047"
      },
      "execution_count": 12,
      "outputs": [
        {
          "output_type": "execute_result",
          "data": {
            "text/plain": [
              "bool"
            ]
          },
          "metadata": {},
          "execution_count": 12
        }
      ]
    },
    {
      "cell_type": "markdown",
      "source": [
        "## Data Structures"
      ],
      "metadata": {
        "id": "vGJ9zee7aMV8"
      }
    },
    {
      "cell_type": "code",
      "source": [
        "# Creating a dictionary\n",
        "biodata = {'age' : 20, 'gender' : 'f', 'edu' : 'Bsc'}\n",
        "print (biodata)\n"
      ],
      "metadata": {
        "colab": {
          "base_uri": "https://localhost:8080/"
        },
        "id": "eUNH6VhWJBlZ",
        "outputId": "7e4ae35f-900e-4914-c028-a1ff04db2cae"
      },
      "execution_count": 13,
      "outputs": [
        {
          "output_type": "stream",
          "name": "stdout",
          "text": [
            "{'age': 20, 'gender': 'f', 'edu': 'Bsc'}\n"
          ]
        }
      ]
    },
    {
      "cell_type": "code",
      "source": [
        "type (biodata)"
      ],
      "metadata": {
        "colab": {
          "base_uri": "https://localhost:8080/"
        },
        "id": "Vpv3A4nVKR8x",
        "outputId": "4ff42efe-d334-413f-9dc0-c66d19c679f2"
      },
      "execution_count": 14,
      "outputs": [
        {
          "output_type": "execute_result",
          "data": {
            "text/plain": [
              "dict"
            ]
          },
          "metadata": {},
          "execution_count": 14
        }
      ]
    },
    {
      "cell_type": "code",
      "source": [
        "# Using the keys to access the values\n",
        "biodata ['age']"
      ],
      "metadata": {
        "colab": {
          "base_uri": "https://localhost:8080/"
        },
        "id": "m1k-05wcL3Ep",
        "outputId": "b50394ce-cb1b-40a8-c786-770bd3499373"
      },
      "execution_count": 15,
      "outputs": [
        {
          "output_type": "execute_result",
          "data": {
            "text/plain": [
              "20"
            ]
          },
          "metadata": {},
          "execution_count": 15
        }
      ]
    },
    {
      "cell_type": "code",
      "source": [
        "biodata ['gender']"
      ],
      "metadata": {
        "colab": {
          "base_uri": "https://localhost:8080/",
          "height": 35
        },
        "id": "kyvx-vhbMYyI",
        "outputId": "e01dd880-b74c-46f4-9880-1616edfb0688"
      },
      "execution_count": 16,
      "outputs": [
        {
          "output_type": "execute_result",
          "data": {
            "text/plain": [
              "'f'"
            ],
            "application/vnd.google.colaboratory.intrinsic+json": {
              "type": "string"
            }
          },
          "metadata": {},
          "execution_count": 16
        }
      ]
    },
    {
      "cell_type": "code",
      "source": [
        "biodata ['edu']"
      ],
      "metadata": {
        "colab": {
          "base_uri": "https://localhost:8080/",
          "height": 35
        },
        "id": "DEbiXwXYMd3A",
        "outputId": "298ad06e-7d9f-4329-aeba-eb5b1e949da4"
      },
      "execution_count": 17,
      "outputs": [
        {
          "output_type": "execute_result",
          "data": {
            "text/plain": [
              "'Bsc'"
            ],
            "application/vnd.google.colaboratory.intrinsic+json": {
              "type": "string"
            }
          },
          "metadata": {},
          "execution_count": 17
        }
      ]
    },
    {
      "cell_type": "code",
      "source": [
        "# Getting all the keys\n",
        "for key in biodata:\n",
        " print (key)"
      ],
      "metadata": {
        "colab": {
          "base_uri": "https://localhost:8080/"
        },
        "id": "NUK3wRINMntp",
        "outputId": "65e4428c-8417-48e9-c2ca-0b81061e70f9"
      },
      "execution_count": 18,
      "outputs": [
        {
          "output_type": "stream",
          "name": "stdout",
          "text": [
            "age\n",
            "gender\n",
            "edu\n"
          ]
        }
      ]
    },
    {
      "cell_type": "code",
      "source": [
        "# getting all the values\n",
        "for values in biodata.values():       # I used the .value() function\n",
        "  print (values)\n"
      ],
      "metadata": {
        "colab": {
          "base_uri": "https://localhost:8080/"
        },
        "id": "BbOSKKxnNb4o",
        "outputId": "8e0cc1ab-5965-416c-a1ec-416ba7e1bb07"
      },
      "execution_count": 19,
      "outputs": [
        {
          "output_type": "stream",
          "name": "stdout",
          "text": [
            "20\n",
            "f\n",
            "Bsc\n"
          ]
        }
      ]
    },
    {
      "cell_type": "code",
      "source": [
        "# Getting both keys and values\n",
        "for key, value in biodata.items():        # I used the .items() function\n",
        "  print (key, value)"
      ],
      "metadata": {
        "colab": {
          "base_uri": "https://localhost:8080/"
        },
        "id": "-eYiz3FHPOiJ",
        "outputId": "39e867c6-01bb-41d1-df8b-4aa32a28bfd3"
      },
      "execution_count": 20,
      "outputs": [
        {
          "output_type": "stream",
          "name": "stdout",
          "text": [
            "age 20\n",
            "gender f\n",
            "edu Bsc\n"
          ]
        }
      ]
    },
    {
      "cell_type": "code",
      "source": [
        "# Reducing the biodata age\n",
        "biodata ['age'] -= 2\n",
        "print (biodata)"
      ],
      "metadata": {
        "colab": {
          "base_uri": "https://localhost:8080/"
        },
        "id": "dKo3oP-4Qvop",
        "outputId": "87f77109-e25a-46b6-f42c-e3b09a651fba"
      },
      "execution_count": 21,
      "outputs": [
        {
          "output_type": "stream",
          "name": "stdout",
          "text": [
            "{'age': 18, 'gender': 'f', 'edu': 'Bsc'}\n"
          ]
        }
      ]
    },
    {
      "cell_type": "code",
      "source": [
        "# Add name\n",
        "biodata ['name'] = 'Oluwakemi'\n",
        "print(biodata)"
      ],
      "metadata": {
        "colab": {
          "base_uri": "https://localhost:8080/"
        },
        "id": "-X__1DVESMeK",
        "outputId": "5016f147-e965-43c8-87ca-ae56877694b3"
      },
      "execution_count": 22,
      "outputs": [
        {
          "output_type": "stream",
          "name": "stdout",
          "text": [
            "{'age': 18, 'gender': 'f', 'edu': 'Bsc', 'name': 'Oluwakemi'}\n"
          ]
        }
      ]
    },
    {
      "cell_type": "code",
      "source": [
        "# replace edu with Msc\n",
        "biodata ['edu'] = 'msc'\n",
        "print (biodata)"
      ],
      "metadata": {
        "colab": {
          "base_uri": "https://localhost:8080/"
        },
        "id": "HtgsVUtbTB-i",
        "outputId": "3b6cda29-a451-4234-d4cd-6d6556c4cce3"
      },
      "execution_count": 23,
      "outputs": [
        {
          "output_type": "stream",
          "name": "stdout",
          "text": [
            "{'age': 18, 'gender': 'f', 'edu': 'msc', 'name': 'Oluwakemi'}\n"
          ]
        }
      ]
    },
    {
      "cell_type": "code",
      "source": [
        "# remove Oluwakemi's age. use the del\n",
        "del biodata['name']\n",
        "print (biodata)"
      ],
      "metadata": {
        "colab": {
          "base_uri": "https://localhost:8080/"
        },
        "id": "gO2sx_LhTd5D",
        "outputId": "4eb1deb4-b361-4d3f-b61d-ae2ed1e3d8cf"
      },
      "execution_count": 24,
      "outputs": [
        {
          "output_type": "stream",
          "name": "stdout",
          "text": [
            "{'age': 18, 'gender': 'f', 'edu': 'msc'}\n"
          ]
        }
      ]
    },
    {
      "cell_type": "code",
      "source": [
        "'age' in biodata"
      ],
      "metadata": {
        "colab": {
          "base_uri": "https://localhost:8080/"
        },
        "id": "7I78z5npU6MD",
        "outputId": "da3a3a0d-ce9b-4280-bd2d-b4e6b7a9b7b3"
      },
      "execution_count": 25,
      "outputs": [
        {
          "output_type": "execute_result",
          "data": {
            "text/plain": [
              "True"
            ]
          },
          "metadata": {},
          "execution_count": 25
        }
      ]
    },
    {
      "cell_type": "code",
      "source": [
        "if 'age' in biodata:\n",
        "  print('Age is still there')\n",
        "else:\n",
        "    print('Age is not there')"
      ],
      "metadata": {
        "colab": {
          "base_uri": "https://localhost:8080/"
        },
        "id": "lrikRQXSVPYx",
        "outputId": "2da511f5-5e01-454d-8efa-ae454247dd4b"
      },
      "execution_count": 26,
      "outputs": [
        {
          "output_type": "stream",
          "name": "stdout",
          "text": [
            "Age is still there\n"
          ]
        }
      ]
    },
    {
      "cell_type": "code",
      "source": [
        "biodata['name'] = 'Oluwakemi'\n",
        "print (biodata)"
      ],
      "metadata": {
        "colab": {
          "base_uri": "https://localhost:8080/"
        },
        "id": "xTbHovopV9mS",
        "outputId": "c9125b31-25e5-4947-e7ec-c71d4527b82d"
      },
      "execution_count": 27,
      "outputs": [
        {
          "output_type": "stream",
          "name": "stdout",
          "text": [
            "{'age': 18, 'gender': 'f', 'edu': 'msc', 'name': 'Oluwakemi'}\n"
          ]
        }
      ]
    },
    {
      "cell_type": "code",
      "source": [
        "biodata['age'] = 20\n",
        "print (biodata)"
      ],
      "metadata": {
        "colab": {
          "base_uri": "https://localhost:8080/"
        },
        "id": "Zhebl1CxWT2S",
        "outputId": "a17d6812-c1b7-4d50-8004-75f78749aee6"
      },
      "execution_count": 28,
      "outputs": [
        {
          "output_type": "stream",
          "name": "stdout",
          "text": [
            "{'age': 20, 'gender': 'f', 'edu': 'msc', 'name': 'Oluwakemi'}\n"
          ]
        }
      ]
    },
    {
      "cell_type": "code",
      "source": [
        "biodata['gender'] = 'F'\n",
        "print(biodata)"
      ],
      "metadata": {
        "colab": {
          "base_uri": "https://localhost:8080/"
        },
        "id": "kZVwdeylWjij",
        "outputId": "dbc4fc84-8d93-4fce-973f-714fe8a0278d"
      },
      "execution_count": 29,
      "outputs": [
        {
          "output_type": "stream",
          "name": "stdout",
          "text": [
            "{'age': 20, 'gender': 'F', 'edu': 'msc', 'name': 'Oluwakemi'}\n"
          ]
        }
      ]
    },
    {
      "cell_type": "code",
      "source": [
        "oluwakemi_skills = {'analysis' : 'excel', 'programming' : 'python'}\n",
        "print (oluwakemi_skills)"
      ],
      "metadata": {
        "id": "J_2VFWfkWyqD",
        "colab": {
          "base_uri": "https://localhost:8080/"
        },
        "outputId": "131f235b-4b13-4261-9768-765605e8d6e9"
      },
      "execution_count": 34,
      "outputs": [
        {
          "output_type": "stream",
          "name": "stdout",
          "text": [
            "{'analysis': 'excel', 'programming': 'python'}\n"
          ]
        }
      ]
    },
    {
      "cell_type": "markdown",
      "source": [
        "### Input and Split"
      ],
      "metadata": {
        "id": "N5d9Mka9eCEF"
      }
    },
    {
      "cell_type": "code",
      "source": [
        "email = input('Kindly write out your email ')             # input and split\n",
        "split = email.split('@')\n",
        "print(split)"
      ],
      "metadata": {
        "colab": {
          "base_uri": "https://localhost:8080/"
        },
        "id": "pFIZH9KpaHw8",
        "outputId": "60462466-dc57-4f52-df2f-0ac8281f4d74"
      },
      "execution_count": 37,
      "outputs": [
        {
          "output_type": "stream",
          "name": "stdout",
          "text": [
            "Kindly write out your email Oluwakemizacchaeus@gmail.com\n",
            "['Oluwakemizacchaeus', 'gmail.com']\n"
          ]
        }
      ]
    },
    {
      "cell_type": "code",
      "source": [
        "type(split)"
      ],
      "metadata": {
        "colab": {
          "base_uri": "https://localhost:8080/"
        },
        "id": "FbS3OKPidI5z",
        "outputId": "1e643373-f952-4abb-8a17-e084408ed394"
      },
      "execution_count": 38,
      "outputs": [
        {
          "output_type": "execute_result",
          "data": {
            "text/plain": [
              "list"
            ]
          },
          "metadata": {},
          "execution_count": 38
        }
      ]
    },
    {
      "cell_type": "code",
      "source": [
        "split[0]"
      ],
      "metadata": {
        "colab": {
          "base_uri": "https://localhost:8080/",
          "height": 35
        },
        "id": "YUzqnrCqdoDT",
        "outputId": "51cb78ee-c442-43c7-fa83-12ed95010182"
      },
      "execution_count": 39,
      "outputs": [
        {
          "output_type": "execute_result",
          "data": {
            "text/plain": [
              "'Oluwakemizacchaeus'"
            ],
            "application/vnd.google.colaboratory.intrinsic+json": {
              "type": "string"
            }
          },
          "metadata": {},
          "execution_count": 39
        }
      ]
    },
    {
      "cell_type": "code",
      "source": [
        "split[1]"
      ],
      "metadata": {
        "colab": {
          "base_uri": "https://localhost:8080/",
          "height": 35
        },
        "id": "hD-F_I_OdrXL",
        "outputId": "f35d6c08-25d4-499b-8d54-84563cb5eeb2"
      },
      "execution_count": 40,
      "outputs": [
        {
          "output_type": "execute_result",
          "data": {
            "text/plain": [
              "'gmail.com'"
            ],
            "application/vnd.google.colaboratory.intrinsic+json": {
              "type": "string"
            }
          },
          "metadata": {},
          "execution_count": 40
        }
      ]
    },
    {
      "cell_type": "code",
      "source": [
        "mail_dict = {'username' : split[0], 'domain name' : split[1]}\n",
        "print(mail_dict)"
      ],
      "metadata": {
        "colab": {
          "base_uri": "https://localhost:8080/"
        },
        "id": "t9cYeYVJeTIj",
        "outputId": "3f779f3f-f6c2-4a84-812a-21c14d999ca6"
      },
      "execution_count": 41,
      "outputs": [
        {
          "output_type": "stream",
          "name": "stdout",
          "text": [
            "{'username': 'Oluwakemizacchaeus', 'domain name': 'gmail.com'}\n"
          ]
        }
      ]
    },
    {
      "cell_type": "code",
      "source": [
        "print('username:', mail_dict['username'])"
      ],
      "metadata": {
        "colab": {
          "base_uri": "https://localhost:8080/"
        },
        "id": "Ot-DA9Ayhmbk",
        "outputId": "4eea753b-6302-4267-a98c-3529288ee720"
      },
      "execution_count": 42,
      "outputs": [
        {
          "output_type": "stream",
          "name": "stdout",
          "text": [
            "username: Oluwakemizacchaeus\n"
          ]
        }
      ]
    },
    {
      "cell_type": "code",
      "source": [
        "print('domain name:', mail_dict['domain name'])"
      ],
      "metadata": {
        "colab": {
          "base_uri": "https://localhost:8080/"
        },
        "id": "Okv_nDvYh35s",
        "outputId": "92453b58-c978-4c38-cd85-7e7d95881ae6"
      },
      "execution_count": 43,
      "outputs": [
        {
          "output_type": "stream",
          "name": "stdout",
          "text": [
            "domain name: gmail.com\n"
          ]
        }
      ]
    },
    {
      "cell_type": "code",
      "source": [
        "# Creating a script to take in my fellowiD as an input\n",
        "fellowID = input('Kindly write out your fellowID ')\n",
        "split = fellowID.split ('/')\n",
        "print(split)"
      ],
      "metadata": {
        "colab": {
          "base_uri": "https://localhost:8080/"
        },
        "id": "RkDC3aZUZwkc",
        "outputId": "af08bb0c-4fe4-48e8-a39e-e868beb7dbe4"
      },
      "execution_count": 44,
      "outputs": [
        {
          "output_type": "stream",
          "name": "stdout",
          "text": [
            "Kindly write out your fellowID FE/23/14033606\n",
            "['FE', '23', '14033606']\n"
          ]
        }
      ]
    }
  ]
}