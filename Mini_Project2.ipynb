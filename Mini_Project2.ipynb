{
  "nbformat": 4,
  "nbformat_minor": 0,
  "metadata": {
    "colab": {
      "provenance": [],
      "authorship_tag": "ABX9TyOek2m5jSyhBt1+rJJLt23f",
      "include_colab_link": true
    },
    "kernelspec": {
      "name": "python3",
      "display_name": "Python 3"
    },
    "language_info": {
      "name": "python"
    }
  },
  "cells": [
    {
      "cell_type": "markdown",
      "metadata": {
        "id": "view-in-github",
        "colab_type": "text"
      },
      "source": [
        "<a href=\"https://colab.research.google.com/github/zoribecca/Data_Science_Practice_Projects/blob/main/Mini_Project2.ipynb\" target=\"_parent\"><img src=\"https://colab.research.google.com/assets/colab-badge.svg\" alt=\"Open In Colab\"/></a>"
      ]
    },
    {
      "cell_type": "code",
      "execution_count": 1,
      "metadata": {
        "colab": {
          "base_uri": "https://localhost:8080/"
        },
        "id": "Nw7aTssD709F",
        "outputId": "0a8da5b9-83d3-4834-e02a-04072b93fa30"
      },
      "outputs": [
        {
          "output_type": "stream",
          "name": "stdout",
          "text": [
            "student score: 90\n",
            "A\n"
          ]
        }
      ],
      "source": [
        "#...................... 'If' and 'Elif' statement .....................#\n",
        "student_score = int(input(\"student score: \"))\n",
        "if student_score > 100:\n",
        "  print('invalid')\n",
        "elif student_score >= 80:\n",
        "  print('A')\n",
        "elif student_score >= 70:\n",
        "  print('B')\n",
        "elif student_score >= 50:\n",
        "  print('C')\n",
        "elif student_score >= 45:\n",
        "  print('D')\n",
        "else:\n",
        "  print('F')"
      ]
    },
    {
      "cell_type": "markdown",
      "source": [
        "Explanation:\n",
        "I took student scores (between 0 and 100) as input and calculated the scores to correspond to the letter grades given in the scale below:\n",
        "* A : 80 - 100\n",
        "* B : 70 - 79\n",
        "* C : 50 - 69\n",
        "* D : 45 - 49\n",
        "* F : Below 44"
      ],
      "metadata": {
        "id": "PsrXEmFG9SG5"
      }
    }
  ]
}