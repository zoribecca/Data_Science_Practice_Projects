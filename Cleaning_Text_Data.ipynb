{
  "nbformat": 4,
  "nbformat_minor": 0,
  "metadata": {
    "colab": {
      "provenance": [],
      "authorship_tag": "ABX9TyNTzQbKELeGO0s+AVYdNdeS",
      "include_colab_link": true
    },
    "kernelspec": {
      "name": "python3",
      "display_name": "Python 3"
    },
    "language_info": {
      "name": "python"
    }
  },
  "cells": [
    {
      "cell_type": "markdown",
      "metadata": {
        "id": "view-in-github",
        "colab_type": "text"
      },
      "source": [
        "<a href=\"https://colab.research.google.com/github/zoribecca/Data_Science_Practice_Projects/blob/main/Cleaning_Text_Data.ipynb\" target=\"_parent\"><img src=\"https://colab.research.google.com/assets/colab-badge.svg\" alt=\"Open In Colab\"/></a>"
      ]
    },
    {
      "cell_type": "code",
      "execution_count": 1,
      "metadata": {
        "colab": {
          "base_uri": "https://localhost:8080/"
        },
        "id": "8HWvjw0w9ia6",
        "outputId": "5a37816b-7bee-48d5-94b6-ee5402c3fd51"
      },
      "outputs": [
        {
          "output_type": "stream",
          "name": "stdout",
          "text": [
            "['123-456-7890', '987-654-3210']\n"
          ]
        }
      ],
      "source": [
        "# Extract Phone Numbers\n",
        "# Expected Output: ['123-456-7890', '987-654-3210']\n",
        "import re\n",
        "def extract_phone_numbers(text):\n",
        "    phone_patterns =  r'\\d{3}-\\d{3}-\\d{4}'\n",
        "    phone_numbers = re.findall(phone_patterns, text)\n",
        "    return phone_numbers\n",
        "\n",
        "text = \"You can reach me at 123-456-7890 or 987-654-3210.\"\n",
        "phone_numbers = extract_phone_numbers(text)\n",
        "print(phone_numbers)"
      ]
    },
    {
      "cell_type": "code",
      "source": [
        "import pandas as pd\n",
        "posts = {'text' : [\"OMG! I love Python!! #coding\", \"This is my first post... Excited!\"]}\n",
        "df = pd.DataFrame(posts)\n",
        "df.head()\n",
        "\n",
        "print(df)\n",
        "# Expected Output: ['omg love python', 'first post excited']"
      ],
      "metadata": {
        "colab": {
          "base_uri": "https://localhost:8080/"
        },
        "id": "t_q2x8h6KH8g",
        "outputId": "a9dfc208-63e1-4a61-f8fb-59f44cf5f043"
      },
      "execution_count": 2,
      "outputs": [
        {
          "output_type": "stream",
          "name": "stdout",
          "text": [
            "                                text\n",
            "0       OMG! I love Python!! #coding\n",
            "1  This is my first post... Excited!\n"
          ]
        }
      ]
    },
    {
      "cell_type": "code",
      "source": [
        "\"\"\" Clean Social Media Posts Given a list of social media posts.\n",
        "clean the text by removing special characters, converting to lowercase,\n",
        "and removing stopwords\"\"\"\n",
        "# Expected Output: ['omg love python', 'first post excited']\n",
        "\n",
        "def remove_whitespace(text):\n",
        "    \"\"\"Removes extra whitespace from a string.\"\"\"\n",
        "    return \" \".join(text.split())\n",
        "\n",
        "def remove_special_chars(text):\n",
        "    \"\"\"Removes special characters and punctuation from a string.\"\"\"\n",
        "    return re.sub(r\"[^a-zA-Z0-9 ]\", \"\", text)\n",
        "\n",
        "def to_lowercase(text):\n",
        "    \"\"\"Converts a string to lowercase.\"\"\"\n",
        "    return text.lower()\n",
        "\n",
        "posts = {'text': [\"OMG! I love Python!! #coding\", \"This is my first post... Excited!\"]}\n",
        "df = pd.DataFrame(posts)\n",
        "\n",
        "df['clean_text'] = (df['text']\n",
        "                    .apply(remove_whitespace)\n",
        "                    .apply(remove_special_chars)\n",
        "                    .apply(to_lowercase))\n",
        "\n",
        "print(df)"
      ],
      "metadata": {
        "colab": {
          "base_uri": "https://localhost:8080/"
        },
        "id": "9AhiGTNwR8Kc",
        "outputId": "89d6d0c7-9798-4e78-e156-26a91e0c5539"
      },
      "execution_count": 3,
      "outputs": [
        {
          "output_type": "stream",
          "name": "stdout",
          "text": [
            "                                text                     clean_text\n",
            "0       OMG! I love Python!! #coding       omg i love python coding\n",
            "1  This is my first post... Excited!  this is my first post excited\n"
          ]
        }
      ]
    }
  ]
}