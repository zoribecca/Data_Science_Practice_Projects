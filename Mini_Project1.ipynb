{
  "nbformat": 4,
  "nbformat_minor": 0,
  "metadata": {
    "colab": {
      "provenance": [],
      "authorship_tag": "ABX9TyNQ7fSBhAP2ZkDkRZyxujJD",
      "include_colab_link": true
    },
    "kernelspec": {
      "name": "python3",
      "display_name": "Python 3"
    },
    "language_info": {
      "name": "python"
    }
  },
  "cells": [
    {
      "cell_type": "markdown",
      "metadata": {
        "id": "view-in-github",
        "colab_type": "text"
      },
      "source": [
        "<a href=\"https://colab.research.google.com/github/zoribecca/Data_Science_Practice_Projects/blob/main/Mini_Project1.ipynb\" target=\"_parent\"><img src=\"https://colab.research.google.com/assets/colab-badge.svg\" alt=\"Open In Colab\"/></a>"
      ]
    },
    {
      "cell_type": "markdown",
      "source": [
        "**Splitters**"
      ],
      "metadata": {
        "id": "xUTJ7kd1ebvp"
      }
    },
    {
      "cell_type": "code",
      "execution_count": null,
      "metadata": {
        "colab": {
          "base_uri": "https://localhost:8080/"
        },
        "id": "l2CMrdCieBRi",
        "outputId": "1dce9b8b-03aa-43d9-92f8-b6e7d86ca215"
      },
      "outputs": [
        {
          "output_type": "stream",
          "name": "stdout",
          "text": [
            "Write out your email: oluwakemizacchaeus@gmail.com\n",
            "['oluwakemizacchaeus', 'gmail.com']\n"
          ]
        }
      ],
      "source": [
        "#...................... Email Splitter .............................#\n",
        "email = input(\"Write out your email: \")\n",
        "split = email.split(\"@\")\n",
        "print(split) # I created a script that will take my email address as an input and used the .split to split my email to username and domain name."
      ]
    },
    {
      "cell_type": "code",
      "source": [
        "#........................ ID Splitter ..............................#\n",
        "fellowID = input(\"What is your fellowID? \")\n",
        "split2 = fellowID.split(\"/\")\n",
        "print(split2)  # I created a script that will take my ID as an input and used the .split to split my ID into felow, year and ID"
      ],
      "metadata": {
        "colab": {
          "base_uri": "https://localhost:8080/"
        },
        "id": "9b5SrltdgHt_",
        "outputId": "66687900-b5da-44d4-81e0-4df494281685"
      },
      "execution_count": null,
      "outputs": [
        {
          "output_type": "stream",
          "name": "stdout",
          "text": [
            "What is your fellowID? FE/23/14033606\n",
            "['FE', '23', '14033606']\n"
          ]
        }
      ]
    },
    {
      "cell_type": "markdown",
      "source": [
        "**Character, word and sentence counter**"
      ],
      "metadata": {
        "id": "Zk1o3aY9lLkJ"
      }
    },
    {
      "cell_type": "code",
      "source": [
        "# Creating a script that will take in a word or sentence\n",
        "sentence_script = input(\"Sentence: \")\n",
        "\n",
        "# Counting the words in the sentence\n",
        "word = sentence_script.split()\n",
        "word_count = len(word)\n",
        "\n",
        "# Counting the sentence\n",
        "sentence_count = sentence_script.count(\".\") + sentence_script.count(\",\") + sentence_script.count(\"!\")\n",
        "\n",
        "# Counting the characters in the sentence\n",
        "character_count = len(sentence_script)\n",
        "\n",
        "# Counting the occurence of a letter in a sentence\n",
        "count_e = sentence_script.count(\"e\")\n",
        "\n",
        "# Printing the result\n",
        "print(f\"Word count: {word_count}\")\n",
        "print(f\"Sentence count: {sentence_count}\")\n",
        "print(f\"Character count: {character_count}\")\n",
        "print(f\"How many times did the letter 'e' occurred in the sentence? {count_e}\")\n",
        "\n",
        "\n",
        "\n",
        "\n"
      ],
      "metadata": {
        "colab": {
          "base_uri": "https://localhost:8080/"
        },
        "id": "GCOW6g8OlV4N",
        "outputId": "e1eca2e0-6470-43bb-ecf6-b075a2d2f22d"
      },
      "execution_count": null,
      "outputs": [
        {
          "output_type": "stream",
          "name": "stdout",
          "text": [
            "Sentence: I am an amazing girl.\n",
            "Word count: 5\n",
            "Sentence count: 1\n",
            "Character count: 21\n",
            "How many times did the letter 'e' occurred in the sentence? 0\n"
          ]
        }
      ]
    }
  ]
}